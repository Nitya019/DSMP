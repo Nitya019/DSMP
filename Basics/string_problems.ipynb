{
 "cells": [
  {
   "cell_type": "markdown",
   "id": "460d4311",
   "metadata": {},
   "source": [
    "## *Problems Involving Strings*"
   ]
  },
  {
   "cell_type": "markdown",
   "id": "6f6604ff",
   "metadata": {},
   "source": [
    "___"
   ]
  },
  {
   "cell_type": "markdown",
   "id": "37c2f5d8",
   "metadata": {},
   "source": [
    "##### *Example 1 - Find the length of a given string without using the len() function*\n"
   ]
  },
  {
   "cell_type": "code",
   "execution_count": 10,
   "id": "3df1494a",
   "metadata": {},
   "outputs": [
    {
     "name": "stdout",
     "output_type": "stream",
     "text": [
      "Number of letters in the word \"magazine\" are 8\n"
     ]
    }
   ],
   "source": [
    "s = input(\"enter string\")\n",
    "\n",
    "c = 0\n",
    "for i in s:\n",
    "    c+=1\n",
    "print(f\"Number of letters in the word \\\"{s}\\\" are {c}\")"
   ]
  }
 ],
 "metadata": {
  "kernelspec": {
   "display_name": "base",
   "language": "python",
   "name": "python3"
  },
  "language_info": {
   "codemirror_mode": {
    "name": "ipython",
    "version": 3
   },
   "file_extension": ".py",
   "mimetype": "text/x-python",
   "name": "python",
   "nbconvert_exporter": "python",
   "pygments_lexer": "ipython3",
   "version": "3.10.12"
  }
 },
 "nbformat": 4,
 "nbformat_minor": 5
}
