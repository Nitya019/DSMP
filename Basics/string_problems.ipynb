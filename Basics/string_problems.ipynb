{
 "cells": [
  {
   "cell_type": "markdown",
   "id": "460d4311",
   "metadata": {},
   "source": [
    "## *Problems Involving Strings*"
   ]
  },
  {
   "cell_type": "markdown",
   "id": "6f6604ff",
   "metadata": {},
   "source": [
    "___"
   ]
  },
  {
   "cell_type": "markdown",
   "id": "37c2f5d8",
   "metadata": {},
   "source": [
    "##### *Example 1 - Find the length of a given string without using the len() function*\n"
   ]
  },
  {
   "cell_type": "code",
   "execution_count": 10,
   "id": "3df1494a",
   "metadata": {},
   "outputs": [
    {
     "name": "stdout",
     "output_type": "stream",
     "text": [
      "Number of letters in the word \"magazine\" are 8\n"
     ]
    }
   ],
   "source": [
    "s = input(\"enter string\")\n",
    "\n",
    "c = 0\n",
    "for i in s:\n",
    "    c+=1\n",
    "print(f\"Number of letters in the word \\\"{s}\\\" are {c}\")"
   ]
  },
  {
   "cell_type": "markdown",
   "id": "58fc428c",
   "metadata": {},
   "source": [
    "##### *Extract username from a given email.* \n",
    "###### *Eg if the email is nitish24singh@gmail.com* \n",
    "###### *then the username should be nitish24singh*"
   ]
  },
  {
   "cell_type": "code",
   "execution_count": 7,
   "id": "3180a094",
   "metadata": {},
   "outputs": [
    {
     "name": "stdout",
     "output_type": "stream",
     "text": [
      "The user name is  vrmnitya\n"
     ]
    }
   ],
   "source": [
    "s = input(\"Enter an email\")\n",
    "\n",
    "if \"@\" in s:\n",
    "    index = s.find(\"@\")\n",
    "    print (\"The user name is \",s[:index])"
   ]
  },
  {
   "cell_type": "markdown",
   "id": "cc646721",
   "metadata": {},
   "source": [
    "##### *Count the frequency of a particular character in a provided string.*\n",
    "###### *Eg 'hello how are you' is the string, the frequency of h in this string is 2.*"
   ]
  },
  {
   "cell_type": "code",
   "execution_count": 13,
   "id": "7a16b524",
   "metadata": {},
   "outputs": [
    {
     "name": "stdout",
     "output_type": "stream",
     "text": [
      "2\n"
     ]
    }
   ],
   "source": [
    "s = input(\"Enter a string\")\n",
    "l = input(\"Enter a character\")\n",
    "\n",
    "c = 0\n",
    "for i in s:\n",
    "    if i == l:\n",
    "        c+=1\n",
    "print(c)"
   ]
  },
  {
   "cell_type": "markdown",
   "id": "647ae656",
   "metadata": {},
   "source": [
    "##### *Write a program which can remove a particular character from a string.*\n"
   ]
  },
  {
   "cell_type": "code",
   "execution_count": 14,
   "id": "1652f12c",
   "metadata": {},
   "outputs": [
    {
     "data": {
      "text/plain": [
       "'ey wat up'"
      ]
     },
     "execution_count": 14,
     "metadata": {},
     "output_type": "execute_result"
    }
   ],
   "source": [
    "s = input(\"Enter a string\")\n",
    "letter = input(\"Enter the character you wanna remove\")\n",
    "\n",
    "s.replace(letter,\"\")"
   ]
  },
  {
   "cell_type": "markdown",
   "id": "42c8540c",
   "metadata": {},
   "source": [
    "##### *Write a program that can check whether a given string is palindrome or not.*"
   ]
  },
  {
   "cell_type": "code",
   "execution_count": 12,
   "id": "58d0d39b",
   "metadata": {},
   "outputs": [
    {
     "name": "stdout",
     "output_type": "stream",
     "text": [
      "hello is not a palindrome\n"
     ]
    }
   ],
   "source": [
    "s = input(\"enter a string\")\n",
    "c = \"\"\n",
    "for i in s[::-1]:\n",
    "    c = c+i\n",
    "if c == s:\n",
    "    print(f\"{s} is a palindrome\")\n",
    "else:\n",
    "    print(f\"{s} is not a palindrome\")"
   ]
  }
 ],
 "metadata": {
  "kernelspec": {
   "display_name": "base",
   "language": "python",
   "name": "python3"
  },
  "language_info": {
   "codemirror_mode": {
    "name": "ipython",
    "version": 3
   },
   "file_extension": ".py",
   "mimetype": "text/x-python",
   "name": "python",
   "nbconvert_exporter": "python",
   "pygments_lexer": "ipython3",
   "version": "3.10.12"
  }
 },
 "nbformat": 4,
 "nbformat_minor": 5
}
