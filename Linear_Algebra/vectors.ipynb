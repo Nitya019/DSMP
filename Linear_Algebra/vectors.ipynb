{
 "cells": [
  {
   "cell_type": "code",
   "execution_count": 1,
   "metadata": {},
   "outputs": [],
   "source": [
    "import numpy as np"
   ]
  },
  {
   "cell_type": "markdown",
   "metadata": {},
   "source": [
    "#### Distance from the origin (Magnitude)"
   ]
  },
  {
   "cell_type": "code",
   "execution_count": 2,
   "metadata": {},
   "outputs": [
    {
     "name": "stdout",
     "output_type": "stream",
     "text": [
      "Distance from the origin = 18.16590212458495\n"
     ]
    }
   ],
   "source": [
    "a = np.array([2,1,4,5,15,3,4,5,3])\n",
    "\n",
    "distance = np.linalg.norm(a)\n",
    "\n",
    "print(f\"Distance from the origin = {distance}\")"
   ]
  },
  {
   "cell_type": "markdown",
   "metadata": {},
   "source": [
    "#### Distance between to vectors (Euclidean)"
   ]
  },
  {
   "cell_type": "code",
   "execution_count": 4,
   "metadata": {},
   "outputs": [
    {
     "name": "stdout",
     "output_type": "stream",
     "text": [
      "The euclidean distance between two vectors is: 34.044089061098404\n"
     ]
    }
   ],
   "source": [
    "A = np.array([1,24,6,3,53,4,12])\n",
    "B = np.array([2,32,4,2,21,3,4])\n",
    "\n",
    "difference = A-B\n",
    "\n",
    "Euclidean = np.linalg.norm(difference)\n",
    "\n",
    "print(f\"The euclidean distance between two vectors is: {Euclidean}\")"
   ]
  }
 ],
 "metadata": {
  "kernelspec": {
   "display_name": "base",
   "language": "python",
   "name": "python3"
  },
  "language_info": {
   "codemirror_mode": {
    "name": "ipython",
    "version": 3
   },
   "file_extension": ".py",
   "mimetype": "text/x-python",
   "name": "python",
   "nbconvert_exporter": "python",
   "pygments_lexer": "ipython3",
   "version": "3.10.12"
  }
 },
 "nbformat": 4,
 "nbformat_minor": 2
}
