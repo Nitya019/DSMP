{
 "cells": [
  {
   "cell_type": "code",
   "execution_count": 1,
   "id": "cd5398af",
   "metadata": {},
   "outputs": [],
   "source": [
    "import numpy as np"
   ]
  },
  {
   "cell_type": "markdown",
   "id": "c0a0b69e",
   "metadata": {},
   "source": [
    "### Creating Arrays"
   ]
  },
  {
   "cell_type": "code",
   "execution_count": 2,
   "id": "8546c981",
   "metadata": {},
   "outputs": [
    {
     "data": {
      "text/plain": [
       "array([1, 2, 3])"
      ]
     },
     "execution_count": 2,
     "metadata": {},
     "output_type": "execute_result"
    }
   ],
   "source": [
    "a = np.array([1,2,3])\n",
    "a"
   ]
  },
  {
   "cell_type": "code",
   "execution_count": 3,
   "id": "c01c6c77",
   "metadata": {},
   "outputs": [
    {
     "data": {
      "text/plain": [
       "array([[1, 2, 3],\n",
       "       [3, 4, 5]])"
      ]
     },
     "execution_count": 3,
     "metadata": {},
     "output_type": "execute_result"
    }
   ],
   "source": [
    "#2D\n",
    "b = np.array([[1,2,3],[3,4,5]])\n",
    "b"
   ]
  },
  {
   "cell_type": "code",
   "execution_count": 7,
   "id": "b1e23aad",
   "metadata": {},
   "outputs": [
    {
     "data": {
      "text/plain": [
       "array([[[ 1,  2,  3],\n",
       "        [ 3,  4,  5]],\n",
       "\n",
       "       [[ 5,  6,  7],\n",
       "        [ 8,  9, 10]]])"
      ]
     },
     "execution_count": 7,
     "metadata": {},
     "output_type": "execute_result"
    }
   ],
   "source": [
    "#3d\n",
    "c = np.array([[[1,2,3],[3,4,5]],\n",
    "              [[5,6,7],[8,9,10]]])\n",
    "c"
   ]
  },
  {
   "cell_type": "code",
   "execution_count": 9,
   "id": "61aab1f6",
   "metadata": {},
   "outputs": [
    {
     "data": {
      "text/plain": [
       "array([ 1,  4,  7, 10, 13, 16, 19])"
      ]
     },
     "execution_count": 9,
     "metadata": {},
     "output_type": "execute_result"
    }
   ],
   "source": [
    "#arange - helps in creating an array of evenly sliced values\n",
    "\n",
    "a = np.arange(1,20,3) #range goes from 1 to 20 with 3 steps \n",
    "a"
   ]
  },
  {
   "cell_type": "code",
   "execution_count": null,
   "id": "6fc0787c",
   "metadata": {},
   "outputs": [
    {
     "data": {
      "text/plain": [
       "array([[[[ 0,  1],\n",
       "         [ 2,  3]],\n",
       "\n",
       "        [[ 4,  5],\n",
       "         [ 6,  7]]],\n",
       "\n",
       "\n",
       "       [[[ 8,  9],\n",
       "         [10, 11]],\n",
       "\n",
       "        [[12, 13],\n",
       "         [14, 15]]]])"
      ]
     },
     "execution_count": 16,
     "metadata": {},
     "output_type": "execute_result"
    }
   ],
   "source": [
    "#arange with reshape - it helps in creating muldimensional arrays \n",
    "a = np.arange(16).reshape(2,2,2,2) #a 4D array with 16 elements\n",
    "a"
   ]
  },
  {
   "cell_type": "code",
   "execution_count": 23,
   "id": "a6e7c557",
   "metadata": {},
   "outputs": [
    {
     "name": "stdout",
     "output_type": "stream",
     "text": [
      "[[0.26925814 0.34556953 0.57184799 0.21656736]\n",
      " [0.60999236 0.8805641  0.60891719 0.22976856]\n",
      " [0.81172815 0.96989995 0.22416847 0.00238399]]\n",
      "\n",
      "-Please note the double brackets-\n"
     ]
    }
   ],
   "source": [
    "#generating random numbers\n",
    "g = np.random.random((3,4))\n",
    "print(g)\n",
    "print(\"\")\n",
    "print(\"-Please note the double brackets-\")"
   ]
  },
  {
   "cell_type": "code",
   "execution_count": 24,
   "id": "70368484",
   "metadata": {},
   "outputs": [
    {
     "data": {
      "text/plain": [
       "array([ 1. ,  5.5, 10. ])"
      ]
     },
     "execution_count": 24,
     "metadata": {},
     "output_type": "execute_result"
    }
   ],
   "source": [
    "#linspace - generates given number of values between start and stop. Useful for plotting\n",
    "\n",
    "np.linspace(1,10,3)"
   ]
  },
  {
   "cell_type": "markdown",
   "id": "0403f0c8",
   "metadata": {},
   "source": [
    "### Array Attributes"
   ]
  },
  {
   "cell_type": "code",
   "execution_count": 25,
   "id": "3a6fa0e3",
   "metadata": {},
   "outputs": [
    {
     "name": "stdout",
     "output_type": "stream",
     "text": [
      "-NOTE the three different ways to generate an array-\n"
     ]
    }
   ],
   "source": [
    "a1 = np.arange(10, dtype = np.int32)\n",
    "a2 = np.arange(12, dtype = float).reshape(3,4)\n",
    "a3 = np.arange(8).reshape(2,2,2)\n",
    "\n",
    "print(\"-NOTE the three different ways to generate an array-\")"
   ]
  },
  {
   "cell_type": "code",
   "execution_count": 30,
   "id": "1a953271",
   "metadata": {},
   "outputs": [
    {
     "name": "stdout",
     "output_type": "stream",
     "text": [
      "Dimension of [0 1 2 3 4 5 6 7 8 9] is 1\n",
      "\n",
      "Dimension of [[ 0.  1.  2.  3.]\n",
      " [ 4.  5.  6.  7.]\n",
      " [ 8.  9. 10. 11.]] is 2\n",
      "\n",
      "Dimension of [[[0 1]\n",
      "  [2 3]]\n",
      "\n",
      " [[4 5]\n",
      "  [6 7]]] is 3\n"
     ]
    }
   ],
   "source": [
    "#ndim - gives the dimension of the array\n",
    "\n",
    "print(f'Dimension of {a1} is {a1.ndim}\\n')\n",
    "print(f'Dimension of {a2} is {a2.ndim}\\n')\n",
    "print(f'Dimension of {a3} is {a3.ndim}')\n"
   ]
  },
  {
   "cell_type": "code",
   "execution_count": 31,
   "id": "fb859f20",
   "metadata": {},
   "outputs": [
    {
     "name": "stdout",
     "output_type": "stream",
     "text": [
      "Shape of [0 1 2 3 4 5 6 7 8 9] is (10,)\n",
      "\n",
      "Shape of [[ 0.  1.  2.  3.]\n",
      " [ 4.  5.  6.  7.]\n",
      " [ 8.  9. 10. 11.]] is (3, 4)\n",
      "\n",
      "Shape of [[[0 1]\n",
      "  [2 3]]\n",
      "\n",
      " [[4 5]\n",
      "  [6 7]]] is (2, 2, 2)\n",
      "\n"
     ]
    }
   ],
   "source": [
    "#shape - tells the shape i.e. number of elements and rows in the array\n",
    "\n",
    "print(f'Shape of {a1} is {a1.shape}\\n')\n",
    "print(f'Shape of {a2} is {a2.shape}\\n')\n",
    "print(f'Shape of {a3} is {a3.shape}\\n')"
   ]
  },
  {
   "cell_type": "markdown",
   "id": "191fc098",
   "metadata": {},
   "source": [
    "### Changing Datatype"
   ]
  },
  {
   "cell_type": "code",
   "execution_count": 32,
   "id": "ffb97e99",
   "metadata": {},
   "outputs": [
    {
     "data": {
      "text/plain": [
       "array([[[0, 1],\n",
       "        [2, 3]],\n",
       "\n",
       "       [[4, 5],\n",
       "        [6, 7]]])"
      ]
     },
     "execution_count": 32,
     "metadata": {},
     "output_type": "execute_result"
    }
   ],
   "source": [
    "#astype\n",
    "\n",
    "a3.astype(np.int32)"
   ]
  }
 ],
 "metadata": {
  "kernelspec": {
   "display_name": "base",
   "language": "python",
   "name": "python3"
  },
  "language_info": {
   "codemirror_mode": {
    "name": "ipython",
    "version": 3
   },
   "file_extension": ".py",
   "mimetype": "text/x-python",
   "name": "python",
   "nbconvert_exporter": "python",
   "pygments_lexer": "ipython3",
   "version": "3.10.12"
  }
 },
 "nbformat": 4,
 "nbformat_minor": 5
}
