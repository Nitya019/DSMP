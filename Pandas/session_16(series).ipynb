{
 "cells": [
  {
   "cell_type": "markdown",
   "id": "fcfb7485",
   "metadata": {},
   "source": [
    " Pandas is an open source data analysis and manipulation tool. \n",
    "\n",
    " Pandas library has many objects of which the most used are Series and Dataframes"
   ]
  },
  {
   "cell_type": "markdown",
   "id": "b1d92141",
   "metadata": {},
   "source": [
    "A Pandas Series is like a column in a table. It is a one-dimensional array holding data of any type."
   ]
  },
  {
   "cell_type": "code",
   "execution_count": 1,
   "id": "bc7721d8",
   "metadata": {},
   "outputs": [],
   "source": [
    "import pandas as pd\n",
    "import numpy as np"
   ]
  },
  {
   "cell_type": "markdown",
   "id": "2ec78c4b",
   "metadata": {},
   "source": [
    "### Creating Series using different Objects"
   ]
  },
  {
   "cell_type": "code",
   "execution_count": null,
   "id": "fe663d61",
   "metadata": {},
   "outputs": [
    {
     "data": {
      "text/plain": [
       "0       India\n",
       "1    Pakistan\n",
       "2         USA\n",
       "3       Nepal\n",
       "dtype: object"
      ]
     },
     "execution_count": 2,
     "metadata": {},
     "output_type": "execute_result"
    }
   ],
   "source": [
    "#From lists\n",
    " \n",
    "country = [\"India\", \"Pakistan\", \"USA\", \"Nepal\"]\n",
    "pd.Series(country)"
   ]
  },
  {
   "cell_type": "code",
   "execution_count": 4,
   "id": "236b8a55",
   "metadata": {},
   "outputs": [],
   "source": [
    "s = {\"Nitya\" : 23 , \"Sam\" : 42, \"Jane\" : 32}\n",
    "s = pd.Series(s)"
   ]
  },
  {
   "cell_type": "code",
   "execution_count": null,
   "id": "8be5ffb4",
   "metadata": {},
   "outputs": [],
   "source": []
  }
 ],
 "metadata": {
  "kernelspec": {
   "display_name": "base",
   "language": "python",
   "name": "python3"
  },
  "language_info": {
   "codemirror_mode": {
    "name": "ipython",
    "version": 3
   },
   "file_extension": ".py",
   "mimetype": "text/x-python",
   "name": "python",
   "nbconvert_exporter": "python",
   "pygments_lexer": "ipython3",
   "version": "3.10.12"
  }
 },
 "nbformat": 4,
 "nbformat_minor": 5
}
