{
  "cells": [
    {
      "cell_type": "markdown",
      "metadata": {
        "id": "w6RlOAXV2PWh"
      },
      "source": [
        "#### `Problem 1`: Write a program that will give you in hand monthly salary after deduction on CTC - HRA(10%), DA(5%), PF(3%) and taxes deduction as below:\n",
        "\n",
        "> Salary(Lakhs) : Tax(%)\n",
        "\n",
        "*   Below 5 : 0%\n",
        "*   5-10 : 10%\n",
        "*   10-20 : 20%\n",
        "*   aboove 20 : 30%"
      ]
    },
    {
      "cell_type": "code",
      "execution_count": 1,
      "metadata": {
        "id": "7tMHvKYO2etI"
      },
      "outputs": [
        {
          "name": "stdout",
          "output_type": "stream",
          "text": [
            "Your salary after deduction on ctc: 8200.0\n"
          ]
        }
      ],
      "source": [
        "ctc = int(input(\"Enter your salary\"))\n",
        " \n",
        "if ctc< 500000:\n",
        "    sal = ctc*0.82  #(18%)\n",
        "elif ctc>500000 & ctc<1000000:\n",
        "    sal = ctc*0.72\n",
        "elif ctc>1000000 & ctc<2000000:\n",
        "    sal = ctc*0.62\n",
        "else:\n",
        "    sal = ctc*0.52\n",
        "    \n",
        "print(f\"Your salary after deduction on ctc: {sal/12}\")"
      ]
    },
    {
      "cell_type": "markdown",
      "metadata": {
        "id": "tYzCGqwl2hfN"
      },
      "source": [
        "#### `Problem 2`: Write a program that take a user input of three angles and will find out whether it can form a triangle or not."
      ]
    },
    {
      "cell_type": "code",
      "execution_count": 2,
      "metadata": {
        "id": "FYEqln-I2kxV"
      },
      "outputs": [
        {
          "name": "stdout",
          "output_type": "stream",
          "text": [
            "Can't form a triangle\n"
          ]
        }
      ],
      "source": [
        "a1 = int(input(\"Enter angle 1\"))\n",
        "a2 = int(input(\"Enter angle 2\"))\n",
        "a3 = int(input(\"Enter angle 3\"))\n",
        "\n",
        "sum_angle = a1+a2+a3\n",
        "\n",
        "if sum_angle == 180:\n",
        "    print(\"The angles can form a triangle\")\n",
        "else:\n",
        "    print(\"Can't form a triangle\")"
      ]
    },
    {
      "cell_type": "markdown",
      "metadata": {
        "id": "5vEpPh8C2pE4"
      },
      "source": [
        "#### `Problem 3`: Write a program that will take user input of cost price and selling price and determines whether its a loss or a profit."
      ]
    },
    {
      "cell_type": "code",
      "execution_count": 3,
      "metadata": {
        "id": "jDwBXlkO2sfl"
      },
      "outputs": [
        {
          "name": "stdout",
          "output_type": "stream",
          "text": [
            "Profit of 60\n"
          ]
        }
      ],
      "source": [
        "sp = int(input(\"Enter Selling Price\"))\n",
        "cp = int(input(\"Enter cost price\"))\n",
        "if sp>cp:\n",
        "    print(f\"Profit of {sp-cp}\")\n",
        "elif cp>sp:\n",
        "    print(f\"Loss of {cp-sp}\")\n",
        "else:\n",
        "    print(\"Neither profit nor loss\")"
      ]
    },
    {
      "cell_type": "markdown",
      "metadata": {
        "id": "J_FG_cJW2ugT"
      },
      "source": [
        "### `Problem 4`: Write a menu-driven program -\n",
        "1. cm to ft\n",
        "2. km to miles\n",
        "3. USD to INR\n",
        "4. exit"
      ]
    },
    {
      "cell_type": "code",
      "execution_count": null,
      "metadata": {
        "id": "yBHhaCGQ2zpD"
      },
      "outputs": [],
      "source": [
        "menu = input(\"\"\"\n",
        "Hi select an option\n",
        "1. cms to ft\n",
        "2. km to miles\n",
        "3. USD to INR\n",
        "4. Exit\n",
        "\"\"\")\n",
        "\n",
        "if menu == '1':\n",
        "  cm = float(input('enter the cm value'))\n",
        "  print('ft value is',0.032*cm)\n",
        "elif menu == '2':\n",
        "  km = float(input('enter the km value'))\n",
        "  print('miles value is',km*0.62)\n",
        "elif menu == '3':\n",
        "  usd = float(input('enter usd'))\n",
        "  print('inr',usd*80)\n",
        "else:\n",
        "  exit()"
      ]
    },
    {
      "cell_type": "markdown",
      "metadata": {
        "id": "LJJ30_Yw27ZU"
      },
      "source": [
        "### `Problem 5` - Exercise 12: Display Fibonacci series up to 10 terms.\n",
        "\n",
        "*Note: The Fibonacci Sequence is a series of numbers. The next number is found by adding up the two numbers before it. The first two numbers are 0 and 1. For example, 0, 1, 1, 2, 3, 5, 8, 13, 21. The next number in this series above is 13+21 = 34*"
      ]
    },
    {
      "cell_type": "code",
      "execution_count": 4,
      "metadata": {
        "id": "ae_1rpe52-5R"
      },
      "outputs": [
        {
          "name": "stdout",
          "output_type": "stream",
          "text": [
            "0\n",
            "1\n",
            "1\n",
            "2\n",
            "3\n",
            "5\n",
            "8\n",
            "13\n",
            "21\n",
            "34\n",
            "55\n"
          ]
        }
      ],
      "source": [
        "n1 = 0\n",
        "n2 = 1\n",
        "\n",
        "for i in range(0,11):\n",
        "    print(n1)\n",
        "    \n",
        "    new = n1 + n2\n",
        "    \n",
        "    n1 = n2\n",
        "    n2 = new "
      ]
    },
    {
      "cell_type": "markdown",
      "metadata": {
        "id": "pk_I_S4m3PT5"
      },
      "source": [
        "### `Problem 6` - Find the factorial of a given number.\n",
        "\n",
        "Write a program to use the loop to find the factorial of a given number.\n",
        "\n",
        "The factorial (symbol: `!`) means to multiply all whole numbers from the chosen number down to 1.\n",
        "\n",
        "For example: calculate the factorial of 5\n",
        "\n",
        "```bash\n",
        "5! = 5 × 4 × 3 × 2 × 1 = 120\n",
        "```\n",
        "\n",
        "Output:\n",
        "\n",
        "```bash\n",
        "120\n",
        "```"
      ]
    },
    {
      "cell_type": "code",
      "execution_count": 8,
      "metadata": {
        "id": "lzXxHegx3Rkc"
      },
      "outputs": [
        {
          "name": "stdout",
          "output_type": "stream",
          "text": [
            "120\n"
          ]
        }
      ],
      "source": [
        "num = int(input(\"Enter a number\"))\n",
        "\n",
        "f = 1\n",
        "for i in range(1,num+1):\n",
        "    f = f*i\n",
        "    \n",
        "print(f)"
      ]
    },
    {
      "cell_type": "markdown",
      "metadata": {
        "id": "-17IOi-g3UpU"
      },
      "source": [
        "### `Problem 7` - Reverse a given integer number.\n",
        "\n",
        "Example:\n",
        "\n",
        "`Input:`\n",
        "\n",
        "```bash\n",
        "76542\n",
        "```\n",
        "\n",
        "`Output:`\n",
        "\n",
        "```bash\n",
        "24567\n",
        "```"
      ]
    },
    {
      "cell_type": "code",
      "execution_count": 9,
      "metadata": {
        "id": "wJwLpKCr3aVA"
      },
      "outputs": [
        {
          "name": "stdout",
          "output_type": "stream",
          "text": [
            "4321\n"
          ]
        }
      ],
      "source": [
        "n = int(input(\"Enter a number\")) #290\n",
        "\n",
        "r = 0\n",
        "\n",
        "while n>0:\n",
        "    last = n%10     \n",
        "    r = r*10 + last \n",
        "    n = n//10 \n",
        "    \n",
        "\n",
        "print(r)\n",
        "    "
      ]
    },
    {
      "cell_type": "markdown",
      "metadata": {
        "id": "-t8PJQaY3sHf"
      },
      "source": [
        "#### `Problem 8`: Take a user input as integer N. Find out the sum from 1 to N. If any number if divisible by 5, then skip that number. And if the sum is greater than 300, don't need to calculate the sum further more. Print the final result. And don't use for loop to solve this problem.\n",
        "\n",
        "**Example 1:**\n",
        "\n",
        "`Input:`\n",
        "\n",
        "```bash\n",
        "30\n",
        "```\n",
        "\n",
        "`Output:`\n",
        "\n",
        "```bash\n",
        "276\n",
        "```"
      ]
    },
    {
      "cell_type": "code",
      "execution_count": 13,
      "metadata": {
        "id": "GZB6mGMP3ujT"
      },
      "outputs": [
        {
          "name": "stdout",
          "output_type": "stream",
          "text": [
            "90\n"
          ]
        }
      ],
      "source": [
        "N = int(input('enter the number'))\n",
        "sum = 0\n",
        "i = 1\n",
        "\n",
        "while i < N+1:\n",
        "  if i % 5 == 0:\n",
        "    i+=1\n",
        "    continue\n",
        "\n",
        "  sum += i\n",
        "\n",
        "  if sum > 300:\n",
        "    sum = sum - i\n",
        "    break\n",
        "\n",
        "  i+=1\n",
        "\n",
        "print(sum)\n"
      ]
    },
    {
      "cell_type": "markdown",
      "metadata": {
        "id": "Q7ggImeA3xm4"
      },
      "source": [
        "### `Problem 9`: Write a program that keeps on accepting a number from the user until the user enters Zero. Display the sum and average of all the numbers."
      ]
    },
    {
      "cell_type": "code",
      "execution_count": 14,
      "metadata": {
        "id": "t_YDSZDe4Kdo"
      },
      "outputs": [
        {
          "name": "stdout",
          "output_type": "stream",
          "text": [
            "Sum : 8\n",
            "Average : 2.6666666666666665\n"
          ]
        }
      ],
      "source": [
        "s = 0\n",
        "c = 0\n",
        "\n",
        "while True:\n",
        "    n = int(input(\"Enter a number\"))\n",
        "    if n==0:\n",
        "        break\n",
        "    s = s+n\n",
        "    c = c+1\n",
        "    \n",
        "    \n",
        "print(f\"Sum : {s}\")\n",
        "print(f\"Average : {s/c}\")"
      ]
    },
    {
      "cell_type": "markdown",
      "metadata": {
        "id": "6EhvEMvm4R7s"
      },
      "source": [
        "###`Problem 9`: Write a program which will find all such numbers which are divisible by 7 but are not a multiple of 5, between 2000 and 3200 (both included). The numbers obtained should be printed in a comma-separated sequence on a single line."
      ]
    },
    {
      "cell_type": "code",
      "execution_count": null,
      "metadata": {
        "id": "d6RgP1B34T6c"
      },
      "outputs": [],
      "source": [
        "# Write code here"
      ]
    },
    {
      "cell_type": "markdown",
      "metadata": {
        "id": "tYvmRR-G4Vp4"
      },
      "source": [
        "###`Problem 10`: Write a program, which will find all such numbers between 1000 and 3000 (both included) such that each digit of the number is an even number. The numbers obtained should be printed in a space-separated sequence on a single line.\n",
        "\n"
      ]
    },
    {
      "cell_type": "code",
      "execution_count": null,
      "metadata": {
        "id": "k6Gs1kIf4k19"
      },
      "outputs": [],
      "source": [
        "# Write code here"
      ]
    },
    {
      "cell_type": "markdown",
      "metadata": {
        "id": "GV18IINT4mf5"
      },
      "source": [
        "###`Problem 11`: A robot moves in a plane starting from the original point (0,0). The robot can move toward UP, DOWN, LEFT and RIGHT with a given steps.\n",
        "The trace of robot movement is shown as the following:\n",
        "```\n",
        "UP 5\n",
        "DOWN 3\n",
        "LEFT 3\n",
        "RIGHT 2\n",
        "!\n",
        "```\n",
        "> The numbers after the direction are steps.\n",
        "\n",
        "> `!` means robot stop there.\n",
        "\n",
        "**Please write a program to compute the distance from current position after a sequence of movement and original point.**\n",
        "\n",
        "*If the distance is a float, then just print the nearest integer.*\n",
        "\n",
        "Example:\n",
        "\n",
        "`Input`:\n",
        "```\n",
        "UP 5\n",
        "DOWN 3\n",
        "LEFT 3\n",
        "RIGHT 2\n",
        "!\n",
        "```\n",
        "`Output`:\n",
        "```\n",
        "2\n",
        "```"
      ]
    },
    {
      "cell_type": "code",
      "execution_count": null,
      "metadata": {
        "id": "6UNMC2aR4w5x"
      },
      "outputs": [],
      "source": [
        "# Write code here"
      ]
    },
    {
      "cell_type": "markdown",
      "metadata": {
        "id": "3fsAIAhK5GYY"
      },
      "source": [
        "###`Problem 12`:Write a program to print whether a given number is a prime number or not"
      ]
    },
    {
      "cell_type": "code",
      "execution_count": null,
      "metadata": {
        "id": "j6y91lxy5LZs"
      },
      "outputs": [],
      "source": [
        "# Write code here"
      ]
    },
    {
      "cell_type": "markdown",
      "metadata": {
        "id": "asAbmbK-5NHv"
      },
      "source": [
        "###`Problem 13`:Print all the Armstrong numbers in a given range.\n",
        "Range will be provided by the user<br>\n",
        "Armstrong number is a number that is equal to the sum of cubes of its digits. For example 0, 1, 153, 370, 371 and 407 are the Armstrong numbers."
      ]
    },
    {
      "cell_type": "code",
      "execution_count": null,
      "metadata": {
        "id": "PZuI67pm5jCT"
      },
      "outputs": [],
      "source": [
        "# Write code here"
      ]
    },
    {
      "cell_type": "markdown",
      "metadata": {
        "id": "ClCQZMqT7gK0"
      },
      "source": [
        "###`Problem 14`:Calculate the angle between the hour hand and minute hand.\n",
        "\n",
        "Note: There can be two angles between hands; we need to print a minimum of two. Also, we need to print the floor of the final result angle. For example, if the final angle is 10.61, we need to print 10.\n",
        "\n",
        "Input:<br>\n",
        "H = 9 , M = 0<br>\n",
        "Output:<br>\n",
        "90<br>\n",
        "Explanation:<br>\n",
        "The minimum angle between hour and minute\n",
        "hand when the time is 9 is 90 degress."
      ]
    },
    {
      "cell_type": "code",
      "execution_count": null,
      "metadata": {
        "id": "tNBTCZML7jy_"
      },
      "outputs": [],
      "source": [
        "# Write code here"
      ]
    },
    {
      "cell_type": "markdown",
      "metadata": {
        "id": "GwacF9Co72Qc"
      },
      "source": [
        "###`Problem 15`:Given two rectangles, find if the given two rectangles overlap or not. A rectangle is denoted by providing the x and y coordinates of two points: the left top corner and the right bottom corner of the rectangle. Two rectangles sharing a side are considered overlapping. (L1 and R1 are the extreme points of the first rectangle and L2 and R2 are the extreme points of the second rectangle).\n",
        "\n",
        "Note: It may be assumed that the rectangles are parallel to the coordinate axis.\n",
        "\n",
        "<img src='https://www.geeksforgeeks.org/wp-content/uploads/rectanglesOverlap.png' width='300' height='200'>"
      ]
    },
    {
      "cell_type": "code",
      "execution_count": null,
      "metadata": {
        "id": "6rrw_lpH78Rs"
      },
      "outputs": [],
      "source": [
        "# Write code here"
      ]
    }
  ],
  "metadata": {
    "colab": {
      "provenance": []
    },
    "kernelspec": {
      "display_name": "Python 3",
      "name": "python3"
    },
    "language_info": {
      "codemirror_mode": {
        "name": "ipython",
        "version": 3
      },
      "file_extension": ".py",
      "mimetype": "text/x-python",
      "name": "python",
      "nbconvert_exporter": "python",
      "pygments_lexer": "ipython3",
      "version": "3.10.12"
    }
  },
  "nbformat": 4,
  "nbformat_minor": 0
}
