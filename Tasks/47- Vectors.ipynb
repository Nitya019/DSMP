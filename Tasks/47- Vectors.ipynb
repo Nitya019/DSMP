{
  "cells": [
    {
      "cell_type": "code",
      "execution_count": 1,
      "metadata": {},
      "outputs": [],
      "source": [
        "import numpy as np"
      ]
    },
    {
      "cell_type": "markdown",
      "metadata": {
        "id": "0lF_KwWXpnQU"
      },
      "source": [
        "\n",
        "\n",
        "\n",
        "### Q5. Given the vector H = [2, 4, 6], shift the vector +1 unit in each dimension\n",
        "\n",
        "### Q6. Given the vectors I = [1, 2, 3] and J = [4, 5, 6], calculate the projection of vector I onto vector J.\n",
        "\n",
        "### Q7. Consider the 2D - position vector a = (1, 3). If b is the point (5, 4), find the vector `ab` and the vector sum `a + ab`. Provide a sketch plot.\n",
        "\n",
        "Note: Search for quiver, to plot an arrow.\n",
        "\n",
        "### Q8. Given two 2D vectors `u` and `v` where `u = [-1, 4]` and `v = [3, -2]`, find the dot product `u . v`, the angle between `u` and `v`, and the projection of `u` onto `v`.\n",
        "\n",
        "\n",
        "### Q9. Given a hyperplane defined by the equation 3x - 2y + z = 1, find two different points that lie on this hyperplane.\n",
        "\n",
        "### Q10. Find a nearest point from a given array of points to a point P1.\n",
        "P1 - (3,9,3)\n",
        "\n",
        "Array of points :\n",
        "```\n",
        "[[1, 8, 5],\n",
        "[8, 8, 2],\n",
        "[7, 9, 1],\n",
        "[5, 6, 3],\n",
        "[9, 1, 2],\n",
        "[6, 5, 9],\n",
        "[5, 8, 6],\n",
        "[3, 4, 8],\n",
        "[6, 8, 4],\n",
        "[7, 2, 7]]\n",
        "```"
      ]
    },
    {
      "cell_type": "markdown",
      "metadata": {},
      "source": [
        "#### *Q1. Given the vectors A = [1, 2, 3] and B = [4, 5, 6], calculate the element-wise product of the two vectors.*\n"
      ]
    },
    {
      "cell_type": "code",
      "execution_count": 2,
      "metadata": {},
      "outputs": [
        {
          "name": "stdout",
          "output_type": "stream",
          "text": [
            "Element-wise product is: 32\n"
          ]
        }
      ],
      "source": [
        "A = np.array([1,2,3])\n",
        "B = np.array([4,5,6])\n",
        "\n",
        "product = np.dot(A,B)\n",
        "\n",
        "print(f\"Element-wise product is: {product}\")"
      ]
    },
    {
      "cell_type": "markdown",
      "metadata": {},
      "source": [
        "#### *Q2. Find the magnitude of the vector C = [2, -3, 1]*"
      ]
    },
    {
      "cell_type": "code",
      "execution_count": 4,
      "metadata": {
        "id": "3RtkFjyXp93H"
      },
      "outputs": [
        {
          "name": "stdout",
          "output_type": "stream",
          "text": [
            "Magnitude is 3.7416573867739413\n"
          ]
        }
      ],
      "source": [
        "C = np.array([2,-3,1])\n",
        "\n",
        "mag = np.linalg.norm(C)\n",
        "\n",
        "print(f\"Magnitude is {mag}\")"
      ]
    },
    {
      "cell_type": "markdown",
      "metadata": {},
      "source": [
        "#### *Q3. Given the vectors D = [1, 2, 3] and E = [4, 5, 6], calculate the cosine of the angle between them.*\n"
      ]
    },
    {
      "cell_type": "code",
      "execution_count": 6,
      "metadata": {},
      "outputs": [
        {
          "name": "stdout",
          "output_type": "stream",
          "text": [
            "0.9746318461970762\n"
          ]
        }
      ],
      "source": [
        "D = np.array([1,2,3])\n",
        "E = np.array([4,5,6])\n",
        "\n",
        "cosine = np.dot(D,E)/(np.linalg.norm(D)*np.linalg.norm(E))\n",
        "\n",
        "print(cosine)"
      ]
    },
    {
      "cell_type": "markdown",
      "metadata": {},
      "source": [
        "#### *Q4. Given the vectors F = [1, 2, 3] and G = [4, 5, 6], calculate the cross product of the two vectors.*"
      ]
    },
    {
      "cell_type": "code",
      "execution_count": null,
      "metadata": {},
      "outputs": [],
      "source": [
        "F = np.array([1,2,3])\n",
        "G = np.array([4,5,6])\n",
        "\n"
      ]
    }
  ],
  "metadata": {
    "colab": {
      "provenance": []
    },
    "kernelspec": {
      "display_name": "Python 3",
      "name": "python3"
    },
    "language_info": {
      "codemirror_mode": {
        "name": "ipython",
        "version": 3
      },
      "file_extension": ".py",
      "mimetype": "text/x-python",
      "name": "python",
      "nbconvert_exporter": "python",
      "pygments_lexer": "ipython3",
      "version": "3.10.12"
    }
  },
  "nbformat": 4,
  "nbformat_minor": 0
}
